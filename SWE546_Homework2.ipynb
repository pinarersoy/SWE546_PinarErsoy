{
 "cells": [
  {
   "cell_type": "code",
   "execution_count": null,
   "metadata": {
    "collapsed": true
   },
   "outputs": [],
   "source": [
    "# Homework 2\n",
    "# Performance Testing for NN and k-NN algorithms\n",
    "\n",
    "# NOTE: Since the import step of iris dataset has encoding errors, \n",
    "# all required functions are added with their explanatory comments\n",
    "# The expected results are also commented at the bottom of the page\n"
   ]
  },
  {
   "cell_type": "code",
   "execution_count": null,
   "metadata": {
    "collapsed": true
   },
   "outputs": [],
   "source": [
    "# import the related libraries\n",
    "# Read iris csv file\n",
    "\n",
    "import numpy as np\n",
    "import pandas as pd\n",
    "\n",
    "import matplotlib.pylab as plt\n",
    "\n",
    "df_iris = pd.read_csv(r'C:\\\\Users\\\\pinar\\\\Desktop\\\\iris.txt',sep=',')"
   ]
  },
  {
   "cell_type": "code",
   "execution_count": null,
   "metadata": {
    "collapsed": true
   },
   "outputs": [],
   "source": [
    "# Calculate the euclidean distance between two instances 1 and 2\n",
    "# Import math package to calculate the math.sqrt function\n",
    "\n",
    "import math\n",
    "\n",
    "def calculateEuclideanDist(instance1, instance2):\n",
    "    distance = 0\n",
    "    for i in range(4):\n",
    "        distance += (instance1.iat[0,i] - instance2.iat[0,i])**2 \n",
    "    return math.sqrt(distance)\n"
   ]
  },
  {
   "cell_type": "code",
   "execution_count": null,
   "metadata": {
    "collapsed": true
   },
   "outputs": [],
   "source": [
    "# Calculate the distance between the instance to other neighbors\n",
    "# Import operator pacakge to be able to use the opeartors in the function\n",
    "\n",
    "import operator\n",
    "\n",
    "def nearestNeighborPred(newInstance, k, selfIndex):\n",
    "    distance = 0\n",
    "    distancesToNeighbors = list()\n",
    "    for x in range(len(df_iris)):\n",
    "        if (x != selfIndex):\n",
    "            distancesToNeighbors.append({'index' : x, \n",
    "                                        'distance' : calculateEuclideanDist(newInstance, df_iris.iloc[[x]]), \n",
    "                                        'class' : df_iris.iloc[[x]].iat[0,4]})\n",
    "    distancesToNeighbors = sorted(distancesToNeighbors, key=operator.itemgetter('distance'))\n",
    "    kNearestNeighbors = distancesToNeighbors[:k]\n",
    "    \n",
    "    differentClassCount = 3\n",
    "    nearestElementCountByClassType = list()\n",
    "    for x in range(differentClassCount):\n",
    "        classNo = x + 1\n",
    "        nearestElementCountByClassType.append({'class' : classNo,\n",
    "                                                'count' : sum(1 for element in kNearestNeighbors if element['class'] == classNo)\n",
    "                                              })\n",
    "    #print(nearestElementCountByClassType)    \n",
    "    return max(nearestElementCountByClassType, key=lambda x:x['count'])['class']\n"
   ]
  },
  {
   "cell_type": "code",
   "execution_count": null,
   "metadata": {
    "collapsed": true
   },
   "outputs": [],
   "source": [
    "# Try to find the optimum neighbor in the range of elements\n",
    "# The fucntion is designed to take 2 values\n",
    "# The function will return the max-k value and its corresponding accuracy rate in a pool of all accuracy rates\n",
    "\n",
    "def optimumKNeighbor(maxK, showAllAccuracyRates):\n",
    "    accuracyList = list()\n",
    "    elementCount = len(df_iris)\n",
    "    for k in range(1, maxK):\n",
    "        errorCount = 0\n",
    "        for elementIndex in range(elementCount):\n",
    "            predictedClass = nearestNeighborPred(df_iris.iloc[[elementIndex]],k, elementIndex)\n",
    "            actualClass = df_iris.iloc[[elementIndex]].iat[0,4]\n",
    "            if (predictedClass != actualClass):\n",
    "                errorCount += 1\n",
    "        accuracy = (elementCount - errorCount) / elementCount * 100\n",
    "        accuracyList.append({'k' : k, \n",
    "                             'accuracy' : accuracy})\n",
    "    if(showAllAccuracyRates):\n",
    "        print(accuracyList)\n",
    "    return max(accuracyList, key=lambda x:x['accuracy'])['k']\n"
   ]
  },
  {
   "cell_type": "code",
   "execution_count": null,
   "metadata": {
    "collapsed": true
   },
   "outputs": [],
   "source": [
    "# Run the function optimumKNeighbor with a range of numbers\n",
    "\n",
    "optimumKNeighbor(10, True)\n",
    "optimumKNeighbor(20, True)\n",
    "\n",
    "# The output will be a list of k neighbors with their accuracy percentages ranging from 1 to 10 or 20. \n",
    "# The final returned result will be the the kth index with the highest percentage\n",
    "# Since all k values and their accuracy rates are listed, Leave-out-one testing can also be observed \n"
   ]
  }
 ],
 "metadata": {
  "kernelspec": {
   "display_name": "Python 2",
   "language": "python",
   "name": "python2"
  },
  "language_info": {
   "codemirror_mode": {
    "name": "ipython",
    "version": 2
   },
   "file_extension": ".py",
   "mimetype": "text/x-python",
   "name": "python",
   "nbconvert_exporter": "python",
   "pygments_lexer": "ipython2",
   "version": "2.7.13"
  }
 },
 "nbformat": 4,
 "nbformat_minor": 2
}
